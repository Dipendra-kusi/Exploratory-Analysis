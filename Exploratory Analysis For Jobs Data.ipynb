{
 "cells": [
  {
   "cell_type": "markdown",
   "metadata": {},
   "source": [
    "## Data Cleaning for Job Application\n",
    "\n",
    "Here i am using DOB Job Application Filings dataset from NYC Open Data website\n",
    "\n",
    "Data Set url: https://data.cityofnewyork.us/Housing-Development/DOB-Job-Application-Filings/ic3t-wcy2\n"
   ]
  },
  {
   "cell_type": "code",
   "execution_count": 25,
   "metadata": {
    "collapsed": true
   },
   "outputs": [],
   "source": [
    "#import the pandas libary for data load\n",
    "import warnings\n",
    "warnings.filterwarnings('ignore')\n",
    "\n",
    "import pandas as pd\n",
    "import matplotlib.pyplot as plt\n",
    "\n",
    "\n",
    "## file path\n",
    "## https://data.cityofnewyork.us/Education/SAT-College-Board-2010-School-Level-Results/zt9s-n5aj\n",
    "file_source = \"DOB_Job_Application_Filings.csv\""
   ]
  },
  {
   "cell_type": "code",
   "execution_count": 26,
   "metadata": {
    "collapsed": false
   },
   "outputs": [
    {
     "data": {
      "text/html": [
       "<div>\n",
       "<table border=\"1\" class=\"dataframe\">\n",
       "  <thead>\n",
       "    <tr style=\"text-align: right;\">\n",
       "      <th></th>\n",
       "      <th>Job #</th>\n",
       "      <th>Doc #</th>\n",
       "      <th>Borough</th>\n",
       "      <th>House #</th>\n",
       "      <th>Street Name</th>\n",
       "      <th>Block</th>\n",
       "      <th>Lot</th>\n",
       "      <th>Bin #</th>\n",
       "      <th>Job Type</th>\n",
       "      <th>Job Status</th>\n",
       "      <th>...</th>\n",
       "      <th>Owner's Last Name</th>\n",
       "      <th>Owner's Business Name</th>\n",
       "      <th>Owner's House Number</th>\n",
       "      <th>Owner'sHouse Street Name</th>\n",
       "      <th>City</th>\n",
       "      <th>State</th>\n",
       "      <th>Zip</th>\n",
       "      <th>Owner'sPhone #</th>\n",
       "      <th>Job Description</th>\n",
       "      <th>DOBRunDate</th>\n",
       "    </tr>\n",
       "  </thead>\n",
       "  <tbody>\n",
       "    <tr>\n",
       "      <th>0</th>\n",
       "      <td>121577873</td>\n",
       "      <td>2</td>\n",
       "      <td>MANHATTAN</td>\n",
       "      <td>386</td>\n",
       "      <td>PARK AVENUE SOUTH</td>\n",
       "      <td>857</td>\n",
       "      <td>38.0</td>\n",
       "      <td>1016890.0</td>\n",
       "      <td>A2</td>\n",
       "      <td>D</td>\n",
       "      <td>...</td>\n",
       "      <td>MIGLIORE</td>\n",
       "      <td>MACKLOWE MANAGEMENT</td>\n",
       "      <td>126</td>\n",
       "      <td>EAST 56TH STREET</td>\n",
       "      <td>NEW YORK</td>\n",
       "      <td>NY</td>\n",
       "      <td>10222</td>\n",
       "      <td>2125545837</td>\n",
       "      <td>GENERAL MECHANICAL &amp; PLUMBING MODIFICATIONS AS...</td>\n",
       "      <td>04/26/2013 12:00:00 AM</td>\n",
       "    </tr>\n",
       "    <tr>\n",
       "      <th>1</th>\n",
       "      <td>520129502</td>\n",
       "      <td>1</td>\n",
       "      <td>STATEN ISLAND</td>\n",
       "      <td>107</td>\n",
       "      <td>KNOX PLACE</td>\n",
       "      <td>342</td>\n",
       "      <td>1.0</td>\n",
       "      <td>5161350.0</td>\n",
       "      <td>A3</td>\n",
       "      <td>A</td>\n",
       "      <td>...</td>\n",
       "      <td>BLUMENBERG</td>\n",
       "      <td>NA</td>\n",
       "      <td>107</td>\n",
       "      <td>KNOX PLACE</td>\n",
       "      <td>STATEN ISLAND</td>\n",
       "      <td>NY</td>\n",
       "      <td>10314</td>\n",
       "      <td>3477398892</td>\n",
       "      <td>BUILDERS PAVEMENT PLAN 143 LF.                ...</td>\n",
       "      <td>04/26/2013 12:00:00 AM</td>\n",
       "    </tr>\n",
       "    <tr>\n",
       "      <th>2</th>\n",
       "      <td>121601560</td>\n",
       "      <td>1</td>\n",
       "      <td>MANHATTAN</td>\n",
       "      <td>63</td>\n",
       "      <td>WEST 131 STREET</td>\n",
       "      <td>1729</td>\n",
       "      <td>9.0</td>\n",
       "      <td>1053831.0</td>\n",
       "      <td>A2</td>\n",
       "      <td>Q</td>\n",
       "      <td>...</td>\n",
       "      <td>MARKOWITZ</td>\n",
       "      <td>635 RIVERSIDE DRIVE NY LLC</td>\n",
       "      <td>619</td>\n",
       "      <td>WEST 54TH STREET</td>\n",
       "      <td>NEW YORK</td>\n",
       "      <td>NY</td>\n",
       "      <td>10016</td>\n",
       "      <td>2127652555</td>\n",
       "      <td>GENERAL CONSTRUCTION TO INCLUDE NEW PARTITIONS...</td>\n",
       "      <td>04/26/2013 12:00:00 AM</td>\n",
       "    </tr>\n",
       "    <tr>\n",
       "      <th>3</th>\n",
       "      <td>121601203</td>\n",
       "      <td>1</td>\n",
       "      <td>MANHATTAN</td>\n",
       "      <td>48</td>\n",
       "      <td>WEST 25TH STREET</td>\n",
       "      <td>826</td>\n",
       "      <td>69.0</td>\n",
       "      <td>1015610.0</td>\n",
       "      <td>A2</td>\n",
       "      <td>D</td>\n",
       "      <td>...</td>\n",
       "      <td>CASALE</td>\n",
       "      <td>48 W 25 ST LLC C/O BERNSTEIN</td>\n",
       "      <td>150</td>\n",
       "      <td>WEST 30TH STREET</td>\n",
       "      <td>NEW YORK</td>\n",
       "      <td>NY</td>\n",
       "      <td>10001</td>\n",
       "      <td>2125941414</td>\n",
       "      <td>STRUCTURAL CHANGES ON THE 5TH FLOOR (MOONDOG E...</td>\n",
       "      <td>04/26/2013 12:00:00 AM</td>\n",
       "    </tr>\n",
       "    <tr>\n",
       "      <th>4</th>\n",
       "      <td>121601338</td>\n",
       "      <td>1</td>\n",
       "      <td>MANHATTAN</td>\n",
       "      <td>45</td>\n",
       "      <td>WEST 29 STREET</td>\n",
       "      <td>831</td>\n",
       "      <td>7.0</td>\n",
       "      <td>1015754.0</td>\n",
       "      <td>A3</td>\n",
       "      <td>D</td>\n",
       "      <td>...</td>\n",
       "      <td>LEE</td>\n",
       "      <td>HYUNG-HYANG REALTY CORP</td>\n",
       "      <td>614</td>\n",
       "      <td>8 AVENUE</td>\n",
       "      <td>NEW YORK</td>\n",
       "      <td>NY</td>\n",
       "      <td>10001</td>\n",
       "      <td>2019881222</td>\n",
       "      <td>FILING HEREWITH FACADE REPAIR PLANS. WORK SCOP...</td>\n",
       "      <td>04/26/2013 12:00:00 AM</td>\n",
       "    </tr>\n",
       "  </tbody>\n",
       "</table>\n",
       "<p>5 rows × 82 columns</p>\n",
       "</div>"
      ],
      "text/plain": [
       "       Job #  Doc #        Borough       House #  \\\n",
       "0  121577873      2      MANHATTAN  386            \n",
       "1  520129502      1  STATEN ISLAND  107            \n",
       "2  121601560      1      MANHATTAN  63             \n",
       "3  121601203      1      MANHATTAN  48             \n",
       "4  121601338      1      MANHATTAN  45             \n",
       "\n",
       "                        Street Name  Block   Lot      Bin # Job Type  \\\n",
       "0  PARK AVENUE SOUTH                   857  38.0  1016890.0       A2   \n",
       "1  KNOX PLACE                          342   1.0  5161350.0       A3   \n",
       "2  WEST 131 STREET                    1729   9.0  1053831.0       A2   \n",
       "3  WEST 25TH STREET                    826  69.0  1015610.0       A2   \n",
       "4  WEST 29 STREET                      831   7.0  1015754.0       A3   \n",
       "\n",
       "  Job Status           ...                         Owner's Last Name  \\\n",
       "0          D           ...            MIGLIORE                         \n",
       "1          A           ...            BLUMENBERG                       \n",
       "2          Q           ...            MARKOWITZ                        \n",
       "3          D           ...            CASALE                           \n",
       "4          D           ...            LEE                              \n",
       "\n",
       "              Owner's Business Name Owner's House Number  \\\n",
       "0  MACKLOWE MANAGEMENT                      126            \n",
       "1  NA                                       107            \n",
       "2  635 RIVERSIDE DRIVE NY LLC               619            \n",
       "3  48 W 25 ST LLC C/O BERNSTEIN             150            \n",
       "4  HYUNG-HYANG REALTY CORP                  614            \n",
       "\n",
       "           Owner'sHouse Street Name            City  State    Zip  \\\n",
       "0  EAST 56TH STREET                  NEW YORK           NY  10222   \n",
       "1  KNOX PLACE                        STATEN ISLAND      NY  10314   \n",
       "2  WEST 54TH STREET                  NEW YORK           NY  10016   \n",
       "3  WEST 30TH STREET                  NEW YORK           NY  10001   \n",
       "4  8 AVENUE                          NEW YORK           NY  10001   \n",
       "\n",
       "  Owner'sPhone #                                    Job Description  \\\n",
       "0     2125545837  GENERAL MECHANICAL & PLUMBING MODIFICATIONS AS...   \n",
       "1     3477398892  BUILDERS PAVEMENT PLAN 143 LF.                ...   \n",
       "2     2127652555  GENERAL CONSTRUCTION TO INCLUDE NEW PARTITIONS...   \n",
       "3     2125941414  STRUCTURAL CHANGES ON THE 5TH FLOOR (MOONDOG E...   \n",
       "4     2019881222  FILING HEREWITH FACADE REPAIR PLANS. WORK SCOP...   \n",
       "\n",
       "               DOBRunDate  \n",
       "0  04/26/2013 12:00:00 AM  \n",
       "1  04/26/2013 12:00:00 AM  \n",
       "2  04/26/2013 12:00:00 AM  \n",
       "3  04/26/2013 12:00:00 AM  \n",
       "4  04/26/2013 12:00:00 AM  \n",
       "\n",
       "[5 rows x 82 columns]"
      ]
     },
     "execution_count": 26,
     "metadata": {},
     "output_type": "execute_result"
    }
   ],
   "source": [
    "## load csv file using pandas\n",
    "dt_JobApplication = pd.read_csv(file_source)\n",
    "\n",
    "## see head rows\n",
    "dt_JobApplication.head()"
   ]
  },
  {
   "cell_type": "code",
   "execution_count": 3,
   "metadata": {
    "collapsed": false
   },
   "outputs": [
    {
     "data": {
      "text/html": [
       "<div>\n",
       "<table border=\"1\" class=\"dataframe\">\n",
       "  <thead>\n",
       "    <tr style=\"text-align: right;\">\n",
       "      <th></th>\n",
       "      <th>Job #</th>\n",
       "      <th>Doc #</th>\n",
       "      <th>Borough</th>\n",
       "      <th>House #</th>\n",
       "      <th>Street Name</th>\n",
       "      <th>Block</th>\n",
       "      <th>Lot</th>\n",
       "      <th>Bin #</th>\n",
       "      <th>Job Type</th>\n",
       "      <th>Job Status</th>\n",
       "      <th>...</th>\n",
       "      <th>Owner's Last Name</th>\n",
       "      <th>Owner's Business Name</th>\n",
       "      <th>Owner's House Number</th>\n",
       "      <th>Owner'sHouse Street Name</th>\n",
       "      <th>City</th>\n",
       "      <th>State</th>\n",
       "      <th>Zip</th>\n",
       "      <th>Owner'sPhone #</th>\n",
       "      <th>Job Description</th>\n",
       "      <th>DOBRunDate</th>\n",
       "    </tr>\n",
       "  </thead>\n",
       "  <tbody>\n",
       "    <tr>\n",
       "      <th>283932</th>\n",
       "      <td>421469048</td>\n",
       "      <td>1</td>\n",
       "      <td>QUEENS</td>\n",
       "      <td>32-25</td>\n",
       "      <td>FRANCIS LEWIS BOULEVARD</td>\n",
       "      <td>6024</td>\n",
       "      <td>36.0</td>\n",
       "      <td>4134097.0</td>\n",
       "      <td>A2</td>\n",
       "      <td>J</td>\n",
       "      <td>...</td>\n",
       "      <td>ROGERS MD</td>\n",
       "      <td>MAIN STREET  RADIOLOGY</td>\n",
       "      <td>32-25</td>\n",
       "      <td>FRANCIS LEWIS BVLD.</td>\n",
       "      <td>BAYSIDE</td>\n",
       "      <td>NY</td>\n",
       "      <td>11358</td>\n",
       "      <td>7186701594</td>\n",
       "      <td>RESPECTFULLY REQUEST TO INSTALL MINOR NON-BEAR...</td>\n",
       "      <td>04/19/2017 12:00:00 AM</td>\n",
       "    </tr>\n",
       "    <tr>\n",
       "      <th>283933</th>\n",
       "      <td>321559292</td>\n",
       "      <td>1</td>\n",
       "      <td>BROOKLYN</td>\n",
       "      <td>375</td>\n",
       "      <td>PINE STREET</td>\n",
       "      <td>4215</td>\n",
       "      <td>14.0</td>\n",
       "      <td>3094708.0</td>\n",
       "      <td>A2</td>\n",
       "      <td>P</td>\n",
       "      <td>...</td>\n",
       "      <td>SHELTON</td>\n",
       "      <td>N.A.</td>\n",
       "      <td>375</td>\n",
       "      <td>PINE STREET</td>\n",
       "      <td>BROOKLYN</td>\n",
       "      <td>NY</td>\n",
       "      <td>11208</td>\n",
       "      <td>2124708034</td>\n",
       "      <td>INTERIOR RENOVATION AS PER PLANS PROVIDED AND ...</td>\n",
       "      <td>04/19/2017 12:00:00 AM</td>\n",
       "    </tr>\n",
       "    <tr>\n",
       "      <th>283934</th>\n",
       "      <td>122931140</td>\n",
       "      <td>1</td>\n",
       "      <td>MANHATTAN</td>\n",
       "      <td>24</td>\n",
       "      <td>WEST 57TH STREET</td>\n",
       "      <td>1272</td>\n",
       "      <td>20.0</td>\n",
       "      <td>1081135.0</td>\n",
       "      <td>A3</td>\n",
       "      <td>D</td>\n",
       "      <td>...</td>\n",
       "      <td>BATEMAN</td>\n",
       "      <td>APF PROPERTIES</td>\n",
       "      <td>28</td>\n",
       "      <td>WEST 44TH STREET</td>\n",
       "      <td>NEW YORK</td>\n",
       "      <td>NY</td>\n",
       "      <td>10036</td>\n",
       "      <td>2123022025</td>\n",
       "      <td>CREATION OF FIRE PROTECTION PLANS (FPP)IN ACCO...</td>\n",
       "      <td>04/19/2017 12:00:00 AM</td>\n",
       "    </tr>\n",
       "    <tr>\n",
       "      <th>283935</th>\n",
       "      <td>123077598</td>\n",
       "      <td>1</td>\n",
       "      <td>MANHATTAN</td>\n",
       "      <td>1220</td>\n",
       "      <td>FIFTH AVENUE</td>\n",
       "      <td>1609</td>\n",
       "      <td>1.0</td>\n",
       "      <td>1074157.0</td>\n",
       "      <td>A3</td>\n",
       "      <td>D</td>\n",
       "      <td>...</td>\n",
       "      <td>GALLAGHER</td>\n",
       "      <td>MUSEUM OF THE CITY OF NEW YORK</td>\n",
       "      <td>1220</td>\n",
       "      <td>FIFTH AVENUE</td>\n",
       "      <td>NEW YORK</td>\n",
       "      <td>NY</td>\n",
       "      <td>10029</td>\n",
       "      <td>9174923491</td>\n",
       "      <td>INSTALLION OF TEMPORARY EXTERIOR COURTYARD TEN...</td>\n",
       "      <td>04/19/2017 12:00:00 AM</td>\n",
       "    </tr>\n",
       "    <tr>\n",
       "      <th>283936</th>\n",
       "      <td>340494584</td>\n",
       "      <td>1</td>\n",
       "      <td>BROOKLYN</td>\n",
       "      <td>2652</td>\n",
       "      <td>CROPSEY AVENUE</td>\n",
       "      <td>6935</td>\n",
       "      <td>1.0</td>\n",
       "      <td>3187689.0</td>\n",
       "      <td>A3</td>\n",
       "      <td>P</td>\n",
       "      <td>...</td>\n",
       "      <td>GONZALEZ</td>\n",
       "      <td>OCEANVIEW TOWERS, INC.</td>\n",
       "      <td>2652</td>\n",
       "      <td>CROSPEY AVENUE</td>\n",
       "      <td>BROOKLYN</td>\n",
       "      <td>NY</td>\n",
       "      <td>11214</td>\n",
       "      <td>7189968531</td>\n",
       "      <td>PROPOSED INSTALLATION OF HEAVY DUTY SIDEWALK S...</td>\n",
       "      <td>04/19/2017 12:00:00 AM</td>\n",
       "    </tr>\n",
       "  </tbody>\n",
       "</table>\n",
       "<p>5 rows × 82 columns</p>\n",
       "</div>"
      ],
      "text/plain": [
       "            Job #  Doc #    Borough House #              Street Name  Block  \\\n",
       "283932  421469048      1     QUEENS   32-25  FRANCIS LEWIS BOULEVARD   6024   \n",
       "283933  321559292      1   BROOKLYN     375              PINE STREET   4215   \n",
       "283934  122931140      1  MANHATTAN      24         WEST 57TH STREET   1272   \n",
       "283935  123077598      1  MANHATTAN    1220             FIFTH AVENUE   1609   \n",
       "283936  340494584      1   BROOKLYN    2652           CROPSEY AVENUE   6935   \n",
       "\n",
       "         Lot      Bin # Job Type Job Status           ...            \\\n",
       "283932  36.0  4134097.0       A2          J           ...             \n",
       "283933  14.0  3094708.0       A2          P           ...             \n",
       "283934  20.0  1081135.0       A3          D           ...             \n",
       "283935   1.0  1074157.0       A3          D           ...             \n",
       "283936   1.0  3187689.0       A3          P           ...             \n",
       "\n",
       "       Owner's Last Name           Owner's Business Name Owner's House Number  \\\n",
       "283932         ROGERS MD          MAIN STREET  RADIOLOGY                32-25   \n",
       "283933           SHELTON                            N.A.                  375   \n",
       "283934           BATEMAN                  APF PROPERTIES                   28   \n",
       "283935         GALLAGHER  MUSEUM OF THE CITY OF NEW YORK                 1220   \n",
       "283936          GONZALEZ          OCEANVIEW TOWERS, INC.                 2652   \n",
       "\n",
       "       Owner'sHouse Street Name     City  State    Zip Owner'sPhone #  \\\n",
       "283932      FRANCIS LEWIS BVLD.   BAYSIDE    NY  11358     7186701594   \n",
       "283933              PINE STREET  BROOKLYN    NY  11208     2124708034   \n",
       "283934         WEST 44TH STREET  NEW YORK    NY  10036     2123022025   \n",
       "283935             FIFTH AVENUE  NEW YORK    NY  10029     9174923491   \n",
       "283936           CROSPEY AVENUE  BROOKLYN    NY  11214     7189968531   \n",
       "\n",
       "                                          Job Description  \\\n",
       "283932  RESPECTFULLY REQUEST TO INSTALL MINOR NON-BEAR...   \n",
       "283933  INTERIOR RENOVATION AS PER PLANS PROVIDED AND ...   \n",
       "283934  CREATION OF FIRE PROTECTION PLANS (FPP)IN ACCO...   \n",
       "283935  INSTALLION OF TEMPORARY EXTERIOR COURTYARD TEN...   \n",
       "283936  PROPOSED INSTALLATION OF HEAVY DUTY SIDEWALK S...   \n",
       "\n",
       "                    DOBRunDate  \n",
       "283932  04/19/2017 12:00:00 AM  \n",
       "283933  04/19/2017 12:00:00 AM  \n",
       "283934  04/19/2017 12:00:00 AM  \n",
       "283935  04/19/2017 12:00:00 AM  \n",
       "283936  04/19/2017 12:00:00 AM  \n",
       "\n",
       "[5 rows x 82 columns]"
      ]
     },
     "execution_count": 3,
     "metadata": {},
     "output_type": "execute_result"
    }
   ],
   "source": [
    "## see tail rows\n",
    "dt_JobApplication.tail()"
   ]
  },
  {
   "cell_type": "markdown",
   "metadata": {},
   "source": [
    "Check column definations.\n",
    "Through inspection, we found Column names has # so we need to clean that"
   ]
  },
  {
   "cell_type": "code",
   "execution_count": 4,
   "metadata": {
    "collapsed": false
   },
   "outputs": [
    {
     "data": {
      "text/plain": [
       "Index([u'Job #', u'Doc #', u'Borough', u'House #', u'Street Name', u'Block',\n",
       "       u'Lot', u'Bin #', u'Job Type', u'Job Status', u'Job Status Descrp',\n",
       "       u'Latest Action Date', u'Building Type', u'Community - Board',\n",
       "       u'Cluster', u'Landmarked', u'Adult Estab', u'Loft Board', u'City Owned',\n",
       "       u'Little e', u'PC Filed', u'eFiling Filed', u'Plumbing', u'Mechanical',\n",
       "       u'Boiler', u'Fuel Burning', u'Fuel Storage', u'Standpipe', u'Sprinkler',\n",
       "       u'Fire Alarm', u'Equipment', u'Fire Suppression', u'Curb Cut', u'Other',\n",
       "       u'Other Description', u'Applicant's First Name',\n",
       "       u'Applicant's Last Name', u'Applicant Professional Title',\n",
       "       u'Applicant License #', u'Professional Cert', u'Pre- Filing Date',\n",
       "       u'Paid', u'Fully Paid', u'Assigned', u'Approved', u'Fully Permitted',\n",
       "       u'Initial Cost', u'Total Est. Fee', u'Fee Status',\n",
       "       u'Existing Zoning Sqft', u'Proposed Zoning Sqft', u'Horizontal Enlrgmt',\n",
       "       u'Vertical Enlrgmt', u'Enlargement SQ Footage', u'Street Frontage',\n",
       "       u'ExistingNo. of Stories', u'Proposed No. of Stories',\n",
       "       u'Existing Height', u'Proposed Height', u'Existing Dwelling Units',\n",
       "       u'Proposed Dwelling Units', u'Existing Occupancy',\n",
       "       u'Proposed Occupancy', u'Site Fill', u'Zoning Dist1', u'Zoning Dist2',\n",
       "       u'Zoning Dist3', u'Special District 1', u'Special District 2',\n",
       "       u'Owner Type', u'Non-Profit', u'Owner's First Name',\n",
       "       u'Owner's Last Name', u'Owner's Business Name', u'Owner's House Number',\n",
       "       u'Owner'sHouse Street Name', u'City ', u'State', u'Zip',\n",
       "       u'Owner'sPhone #', u'Job Description', u'DOBRunDate'],\n",
       "      dtype='object')"
      ]
     },
     "execution_count": 4,
     "metadata": {},
     "output_type": "execute_result"
    }
   ],
   "source": [
    "dt_JobApplication.columns"
   ]
  },
  {
   "cell_type": "code",
   "execution_count": 5,
   "metadata": {
    "collapsed": false
   },
   "outputs": [
    {
     "data": {
      "text/plain": [
       "(283937, 82)"
      ]
     },
     "execution_count": 5,
     "metadata": {},
     "output_type": "execute_result"
    }
   ],
   "source": [
    "## check the shape of data frame\n",
    "## we can find rows and column number\n",
    "dt_JobApplication.shape"
   ]
  },
  {
   "cell_type": "code",
   "execution_count": 6,
   "metadata": {
    "collapsed": false
   },
   "outputs": [
    {
     "name": "stdout",
     "output_type": "stream",
     "text": [
      "<class 'pandas.core.frame.DataFrame'>\n",
      "RangeIndex: 283937 entries, 0 to 283936\n",
      "Data columns (total 82 columns):\n",
      "Job #                           283937 non-null int64\n",
      "Doc #                           283937 non-null int64\n",
      "Borough                         283937 non-null object\n",
      "House #                         283937 non-null object\n",
      "Street Name                     283937 non-null object\n",
      "Block                           283937 non-null int64\n",
      "Lot                             283936 non-null float64\n",
      "Bin #                           283936 non-null float64\n",
      "Job Type                        283936 non-null object\n",
      "Job Status                      283936 non-null object\n",
      "Job Status Descrp               283936 non-null object\n",
      "Latest Action Date              283936 non-null object\n",
      "Building Type                   283936 non-null object\n",
      "Community - Board               283754 non-null object\n",
      "Cluster                         1 non-null object\n",
      "Landmarked                      39484 non-null object\n",
      "Adult Estab                     17 non-null object\n",
      "Loft Board                      1213 non-null object\n",
      "City Owned                      34281 non-null object\n",
      "Little e                        2987 non-null object\n",
      "PC Filed                        0 non-null float64\n",
      "eFiling Filed                   281661 non-null object\n",
      "Plumbing                        133464 non-null object\n",
      "Mechanical                      104348 non-null object\n",
      "Boiler                          72747 non-null object\n",
      "Fuel Burning                    69705 non-null object\n",
      "Fuel Storage                    69160 non-null object\n",
      "Standpipe                       70209 non-null object\n",
      "Sprinkler                       84365 non-null object\n",
      "Fire Alarm                      79703 non-null object\n",
      "Equipment                       112476 non-null object\n",
      "Fire Suppression                71872 non-null object\n",
      "Curb Cut                        71682 non-null object\n",
      "Other                           187743 non-null object\n",
      "Other Description               187741 non-null object\n",
      "Applicant's First Name          283935 non-null object\n",
      "Applicant's Last Name           283935 non-null object\n",
      "Applicant Professional Title    283935 non-null object\n",
      "Applicant License #             282730 non-null object\n",
      "Professional Cert               159352 non-null object\n",
      "Pre- Filing Date                283935 non-null object\n",
      "Paid                            271114 non-null object\n",
      "Fully Paid                      271192 non-null object\n",
      "Assigned                        102365 non-null object\n",
      "Approved                        91060 non-null object\n",
      "Fully Permitted                 21752 non-null object\n",
      "Initial Cost                    283935 non-null object\n",
      "Total Est. Fee                  283935 non-null object\n",
      "Fee Status                      283935 non-null object\n",
      "Existing Zoning Sqft            283935 non-null float64\n",
      "Proposed Zoning Sqft            283935 non-null float64\n",
      "Horizontal Enlrgmt              5235 non-null object\n",
      "Vertical Enlrgmt                3676 non-null object\n",
      "Enlargement SQ Footage          283935 non-null float64\n",
      "Street Frontage                 283935 non-null float64\n",
      "ExistingNo. of Stories          283935 non-null float64\n",
      "Proposed No. of Stories         283935 non-null float64\n",
      "Existing Height                 283935 non-null float64\n",
      "Proposed Height                 283935 non-null float64\n",
      "Existing Dwelling Units         187260 non-null object\n",
      "Proposed Dwelling Units         188659 non-null object\n",
      "Existing Occupancy              243473 non-null object\n",
      "Proposed Occupancy              246584 non-null object\n",
      "Site Fill                       190782 non-null object\n",
      "Zoning Dist1                    247782 non-null object\n",
      "Zoning Dist2                    35604 non-null object\n",
      "Zoning Dist3                    2070 non-null object\n",
      "Special District 1              62868 non-null object\n",
      "Special District 2              18776 non-null object\n",
      "Owner Type                      0 non-null float64\n",
      "Non-Profit                      16130 non-null object\n",
      "Owner's First Name              283929 non-null object\n",
      "Owner's Last Name               283928 non-null object\n",
      "Owner's Business Name           250034 non-null object\n",
      "Owner's House Number            283927 non-null object\n",
      "Owner'sHouse Street Name        283919 non-null object\n",
      "City                            283935 non-null object\n",
      "State                           283934 non-null object\n",
      "Zip                             283934 non-null object\n",
      "Owner'sPhone #                  283933 non-null object\n",
      "Job Description                 280736 non-null object\n",
      "DOBRunDate                      283920 non-null object\n",
      "dtypes: float64(12), int64(3), object(67)\n",
      "memory usage: 177.6+ MB\n"
     ]
    }
   ],
   "source": [
    "## check the data frame info\n",
    "## to check if NA exist or not\n",
    "## we can find thea there are number of column having \n",
    "## missing data like Community - Board, Landmarked, etc \n",
    "## and also Inital Cost, Total Est. Fee are object type due to $ at front\n",
    "\n",
    "dt_JobApplication.info()"
   ]
  },
  {
   "cell_type": "code",
   "execution_count": 7,
   "metadata": {
    "collapsed": false
   },
   "outputs": [
    {
     "data": {
      "text/plain": [
       "NY        273739\n",
       "NJ          6125\n",
       "CT           512\n",
       "CA           448\n",
       "FL           443\n",
       "IL           412\n",
       "PA           333\n",
       "OH           324\n",
       "MA           190\n",
       "MD           177\n",
       "TX           155\n",
       "VA           143\n",
       "NC           122\n",
       "GA            93\n",
       "MI            83\n",
       "TN            72\n",
       "MN            69\n",
       "DC            52\n",
       "KS            48\n",
       "CO            46\n",
       "WA            42\n",
       "AZ            34\n",
       "SC            34\n",
       "RI            26\n",
       "UT            24\n",
       "WI            22\n",
       "NV            19\n",
       "KY            19\n",
       "VT            19\n",
       "DE            18\n",
       "HI            18\n",
       "NH            14\n",
       "NM            12\n",
       "MO            11\n",
       "IN            11\n",
       "AR             6\n",
       "CN             5\n",
       "LA             4\n",
       "NaN            3\n",
       "IA             2\n",
       "NE             2\n",
       "ME             2\n",
       "EGRESS         1\n",
       "WY             1\n",
       "AL             1\n",
       "MS             1\n",
       "Name: State, dtype: int64"
      ]
     },
     "execution_count": 7,
     "metadata": {},
     "output_type": "execute_result"
    }
   ],
   "source": [
    "# check the number of applicant in state\n",
    "# used for categorical data or non-numerical data\n",
    "dt_JobApplication['State'].value_counts(dropna=False)"
   ]
  },
  {
   "cell_type": "code",
   "execution_count": 8,
   "metadata": {
    "collapsed": false
   },
   "outputs": [
    {
     "data": {
      "text/plain": [
       "NY    273739\n",
       "NJ      6125\n",
       "CT       512\n",
       "CA       448\n",
       "FL       443\n",
       "Name: State, dtype: int64"
      ]
     },
     "execution_count": 8,
     "metadata": {},
     "output_type": "execute_result"
    }
   ],
   "source": [
    "#check count for first 5 state\n",
    "# no missing value so no need to replace\n",
    "dt_JobApplication['State'].value_counts(dropna=False).head()\n"
   ]
  },
  {
   "cell_type": "code",
   "execution_count": 9,
   "metadata": {
    "collapsed": false
   },
   "outputs": [
    {
     "data": {
      "text/plain": [
       "D      105915\n",
       "P       62757\n",
       "H       38425\n",
       "R       22831\n",
       "J       17022\n",
       "A       12773\n",
       "Q        9445\n",
       "F        7810\n",
       "E        5948\n",
       "B         675\n",
       "U         220\n",
       "C          60\n",
       "K          52\n",
       "3           3\n",
       "NaN         1\n",
       "Name: Job Status, dtype: int64"
      ]
     },
     "execution_count": 9,
     "metadata": {},
     "output_type": "execute_result"
    }
   ],
   "source": [
    "## check see if there is null value exist or not in Job Status\n",
    "## so we need to replace the null value\n",
    "dt_JobApplication['Job Status'].value_counts(dropna=False)"
   ]
  },
  {
   "cell_type": "code",
   "execution_count": 10,
   "metadata": {
    "collapsed": false
   },
   "outputs": [
    {
     "data": {
      "text/html": [
       "<div>\n",
       "<table border=\"1\" class=\"dataframe\">\n",
       "  <thead>\n",
       "    <tr style=\"text-align: right;\">\n",
       "      <th></th>\n",
       "      <th>Job #</th>\n",
       "      <th>Doc #</th>\n",
       "      <th>Block</th>\n",
       "      <th>Lot</th>\n",
       "      <th>Bin #</th>\n",
       "      <th>PC Filed</th>\n",
       "      <th>Existing Zoning Sqft</th>\n",
       "      <th>Proposed Zoning Sqft</th>\n",
       "      <th>Enlargement SQ Footage</th>\n",
       "      <th>Street Frontage</th>\n",
       "      <th>ExistingNo. of Stories</th>\n",
       "      <th>Proposed No. of Stories</th>\n",
       "      <th>Existing Height</th>\n",
       "      <th>Proposed Height</th>\n",
       "      <th>Owner Type</th>\n",
       "    </tr>\n",
       "  </thead>\n",
       "  <tbody>\n",
       "    <tr>\n",
       "      <th>count</th>\n",
       "      <td>2.839370e+05</td>\n",
       "      <td>283937.000000</td>\n",
       "      <td>283937.000000</td>\n",
       "      <td>283936.000000</td>\n",
       "      <td>2.839360e+05</td>\n",
       "      <td>0.0</td>\n",
       "      <td>2.839350e+05</td>\n",
       "      <td>2.839350e+05</td>\n",
       "      <td>283935.000000</td>\n",
       "      <td>283935.000000</td>\n",
       "      <td>283935.000000</td>\n",
       "      <td>283935.000000</td>\n",
       "      <td>283935.000000</td>\n",
       "      <td>283935.000000</td>\n",
       "      <td>0.0</td>\n",
       "    </tr>\n",
       "    <tr>\n",
       "      <th>mean</th>\n",
       "      <td>2.539927e+08</td>\n",
       "      <td>1.173912</td>\n",
       "      <td>2828.363158</td>\n",
       "      <td>614.551807</td>\n",
       "      <td>2.401677e+06</td>\n",
       "      <td>NaN</td>\n",
       "      <td>1.987829e+03</td>\n",
       "      <td>2.587152e+03</td>\n",
       "      <td>66.391854</td>\n",
       "      <td>4.189529</td>\n",
       "      <td>8.002472</td>\n",
       "      <td>8.088883</td>\n",
       "      <td>94.052526</td>\n",
       "      <td>95.232740</td>\n",
       "      <td>NaN</td>\n",
       "    </tr>\n",
       "    <tr>\n",
       "      <th>std</th>\n",
       "      <td>1.328053e+08</td>\n",
       "      <td>0.555662</td>\n",
       "      <td>3201.780183</td>\n",
       "      <td>1985.988748</td>\n",
       "      <td>1.397608e+06</td>\n",
       "      <td>NaN</td>\n",
       "      <td>6.722602e+04</td>\n",
       "      <td>7.671966e+04</td>\n",
       "      <td>2431.166252</td>\n",
       "      <td>148.308175</td>\n",
       "      <td>11.915133</td>\n",
       "      <td>11.910236</td>\n",
       "      <td>168.037305</td>\n",
       "      <td>187.924084</td>\n",
       "      <td>NaN</td>\n",
       "    </tr>\n",
       "    <tr>\n",
       "      <th>min</th>\n",
       "      <td>1.036438e+08</td>\n",
       "      <td>1.000000</td>\n",
       "      <td>0.000000</td>\n",
       "      <td>0.000000</td>\n",
       "      <td>1.000003e+06</td>\n",
       "      <td>NaN</td>\n",
       "      <td>0.000000e+00</td>\n",
       "      <td>0.000000e+00</td>\n",
       "      <td>0.000000</td>\n",
       "      <td>0.000000</td>\n",
       "      <td>0.000000</td>\n",
       "      <td>0.000000</td>\n",
       "      <td>0.000000</td>\n",
       "      <td>0.000000</td>\n",
       "      <td>NaN</td>\n",
       "    </tr>\n",
       "    <tr>\n",
       "      <th>25%</th>\n",
       "      <td>1.224989e+08</td>\n",
       "      <td>1.000000</td>\n",
       "      <td>849.000000</td>\n",
       "      <td>12.000000</td>\n",
       "      <td>1.037550e+06</td>\n",
       "      <td>NaN</td>\n",
       "      <td>0.000000e+00</td>\n",
       "      <td>0.000000e+00</td>\n",
       "      <td>0.000000</td>\n",
       "      <td>0.000000</td>\n",
       "      <td>1.000000</td>\n",
       "      <td>2.000000</td>\n",
       "      <td>20.000000</td>\n",
       "      <td>21.000000</td>\n",
       "      <td>NaN</td>\n",
       "    </tr>\n",
       "    <tr>\n",
       "      <th>50%</th>\n",
       "      <td>2.205226e+08</td>\n",
       "      <td>1.000000</td>\n",
       "      <td>1498.000000</td>\n",
       "      <td>32.000000</td>\n",
       "      <td>2.070385e+06</td>\n",
       "      <td>NaN</td>\n",
       "      <td>0.000000e+00</td>\n",
       "      <td>0.000000e+00</td>\n",
       "      <td>0.000000</td>\n",
       "      <td>0.000000</td>\n",
       "      <td>4.000000</td>\n",
       "      <td>4.000000</td>\n",
       "      <td>43.000000</td>\n",
       "      <td>45.000000</td>\n",
       "      <td>NaN</td>\n",
       "    </tr>\n",
       "    <tr>\n",
       "      <th>75%</th>\n",
       "      <td>3.403135e+08</td>\n",
       "      <td>1.000000</td>\n",
       "      <td>3598.000000</td>\n",
       "      <td>59.000000</td>\n",
       "      <td>3.395578e+06</td>\n",
       "      <td>NaN</td>\n",
       "      <td>0.000000e+00</td>\n",
       "      <td>0.000000e+00</td>\n",
       "      <td>0.000000</td>\n",
       "      <td>0.000000</td>\n",
       "      <td>8.000000</td>\n",
       "      <td>8.000000</td>\n",
       "      <td>98.000000</td>\n",
       "      <td>100.000000</td>\n",
       "      <td>NaN</td>\n",
       "    </tr>\n",
       "    <tr>\n",
       "      <th>max</th>\n",
       "      <td>5.401266e+08</td>\n",
       "      <td>13.000000</td>\n",
       "      <td>99999.000000</td>\n",
       "      <td>9999.000000</td>\n",
       "      <td>5.865656e+06</td>\n",
       "      <td>NaN</td>\n",
       "      <td>1.779104e+07</td>\n",
       "      <td>2.864286e+07</td>\n",
       "      <td>765555.000000</td>\n",
       "      <td>50000.000000</td>\n",
       "      <td>102.000000</td>\n",
       "      <td>102.000000</td>\n",
       "      <td>22019.000000</td>\n",
       "      <td>44101.000000</td>\n",
       "      <td>NaN</td>\n",
       "    </tr>\n",
       "  </tbody>\n",
       "</table>\n",
       "</div>"
      ],
      "text/plain": [
       "              Job #          Doc #          Block            Lot  \\\n",
       "count  2.839370e+05  283937.000000  283937.000000  283936.000000   \n",
       "mean   2.539927e+08       1.173912    2828.363158     614.551807   \n",
       "std    1.328053e+08       0.555662    3201.780183    1985.988748   \n",
       "min    1.036438e+08       1.000000       0.000000       0.000000   \n",
       "25%    1.224989e+08       1.000000     849.000000      12.000000   \n",
       "50%    2.205226e+08       1.000000    1498.000000      32.000000   \n",
       "75%    3.403135e+08       1.000000    3598.000000      59.000000   \n",
       "max    5.401266e+08      13.000000   99999.000000    9999.000000   \n",
       "\n",
       "              Bin #  PC Filed  Existing Zoning Sqft  Proposed Zoning Sqft  \\\n",
       "count  2.839360e+05       0.0          2.839350e+05          2.839350e+05   \n",
       "mean   2.401677e+06       NaN          1.987829e+03          2.587152e+03   \n",
       "std    1.397608e+06       NaN          6.722602e+04          7.671966e+04   \n",
       "min    1.000003e+06       NaN          0.000000e+00          0.000000e+00   \n",
       "25%    1.037550e+06       NaN          0.000000e+00          0.000000e+00   \n",
       "50%    2.070385e+06       NaN          0.000000e+00          0.000000e+00   \n",
       "75%    3.395578e+06       NaN          0.000000e+00          0.000000e+00   \n",
       "max    5.865656e+06       NaN          1.779104e+07          2.864286e+07   \n",
       "\n",
       "       Enlargement SQ Footage  Street Frontage  ExistingNo. of Stories  \\\n",
       "count           283935.000000    283935.000000           283935.000000   \n",
       "mean                66.391854         4.189529                8.002472   \n",
       "std               2431.166252       148.308175               11.915133   \n",
       "min                  0.000000         0.000000                0.000000   \n",
       "25%                  0.000000         0.000000                1.000000   \n",
       "50%                  0.000000         0.000000                4.000000   \n",
       "75%                  0.000000         0.000000                8.000000   \n",
       "max             765555.000000     50000.000000              102.000000   \n",
       "\n",
       "       Proposed No. of Stories  Existing Height  Proposed Height  Owner Type  \n",
       "count            283935.000000    283935.000000    283935.000000         0.0  \n",
       "mean                  8.088883        94.052526        95.232740         NaN  \n",
       "std                  11.910236       168.037305       187.924084         NaN  \n",
       "min                   0.000000         0.000000         0.000000         NaN  \n",
       "25%                   2.000000        20.000000        21.000000         NaN  \n",
       "50%                   4.000000        43.000000        45.000000         NaN  \n",
       "75%                   8.000000        98.000000       100.000000         NaN  \n",
       "max                 102.000000     22019.000000     44101.000000         NaN  "
      ]
     },
     "execution_count": 10,
     "metadata": {},
     "output_type": "execute_result"
    }
   ],
   "source": [
    "## to see numerical statistics\n",
    "## it will give only for numberical data type\n",
    "dt_JobApplication.describe()"
   ]
  },
  {
   "cell_type": "code",
   "execution_count": 11,
   "metadata": {
    "collapsed": false
   },
   "outputs": [
    {
     "data": {
      "text/plain": [
       "count    283935.000000\n",
       "mean         94.052526\n",
       "std         168.037305\n",
       "min           0.000000\n",
       "25%          20.000000\n",
       "50%          43.000000\n",
       "75%          98.000000\n",
       "max       22019.000000\n",
       "Name: Existing Height, dtype: float64"
      ]
     },
     "execution_count": 11,
     "metadata": {},
     "output_type": "execute_result"
    }
   ],
   "source": [
    "## let see details for specific column Job\n",
    "dt_JobApplication.describe()['Existing Height']"
   ]
  },
  {
   "cell_type": "code",
   "execution_count": 12,
   "metadata": {
    "collapsed": false
   },
   "outputs": [
    {
     "data": {
      "image/png": "[encoded data removed]",
      "text/plain": [
       "<matplotlib.figure.Figure at 0x24bfd30>"
      ]
     },
     "metadata": {},
     "output_type": "display_data"
    }
   ],
   "source": [
    "%matplotlib inline\n",
    "## let visualized the numerical or continues data \n",
    "## through histrogram\n",
    "dt_JobApplication['Enlargement SQ Footage'].plot('hist')\n",
    "plt.show()\n"
   ]
  },
  {
   "cell_type": "code",
   "execution_count": 19,
   "metadata": {
    "collapsed": false
   },
   "outputs": [
    {
     "data": {
      "text/plain": [
       "<matplotlib.axes._subplots.AxesSubplot at 0x187c3e80>"
      ]
     },
     "execution_count": 19,
     "metadata": {},
     "output_type": "execute_result"
    },
    {
     "data": {
      "image/png": "[encoded data removed]",
      "text/plain": [
       "<matplotlib.figure.Figure at 0x1deeb748>"
      ]
     },
     "metadata": {},
     "output_type": "display_data"
    }
   ],
   "source": [
    "# use log to see actual view if the value has greater difference\n",
    "# so we actually use log to find the value in hist which cannot be see\n",
    "# in above histogram without log\n",
    "dt_JobApplication['Enlargement SQ Footage'].plot(kind='hist', rot=70, logx=True, logy=True )"
   ]
  },
  {
   "cell_type": "code",
   "execution_count": 16,
   "metadata": {
    "collapsed": false
   },
   "outputs": [
    {
     "data": {
      "text/plain": [
       "<matplotlib.axes._subplots.AxesSubplot at 0x187ff0b8>"
      ]
     },
     "execution_count": 16,
     "metadata": {},
     "output_type": "execute_result"
    },
    {
     "data": {
      "image/png": "[encoded data removed]",
      "text/plain": [
       "<matplotlib.figure.Figure at 0x14ecc630>"
      ]
     },
     "metadata": {},
     "output_type": "display_data"
    }
   ],
   "source": [
    "## lets slice our data and pick existing Height less than 10\n",
    "## and see the Enlargement SQ Footage\n",
    "dt_JobApplication[dt_JobApplication['Existing Height']<10]['Enlargement SQ Footage'].plot('hist')\n"
   ]
  },
  {
   "cell_type": "code",
   "execution_count": 14,
   "metadata": {
    "collapsed": false
   },
   "outputs": [
    {
     "data": {
      "text/plain": [
       "<matplotlib.axes._subplots.AxesSubplot at 0x150f3cc0>"
      ]
     },
     "execution_count": 14,
     "metadata": {},
     "output_type": "execute_result"
    },
    {
     "data": {
      "image/png": "[encoded data removed]",
      "text/plain": [
       "<matplotlib.figure.Figure at 0xf516128>"
      ]
     },
     "metadata": {},
     "output_type": "display_data"
    }
   ],
   "source": [
    "\n",
    "# box plot help to find the outliers\n",
    "# A2 and A3 seems to have outlier so we have to check wether its is actually\n",
    "# outliers or not\n",
    "dt_JobApplication.boxplot(column='Existing Height', by='Job Type')"
   ]
  },
  {
   "cell_type": "code",
   "execution_count": 24,
   "metadata": {
    "collapsed": false
   },
   "outputs": [
    {
     "data": {
      "text/plain": [
       "<matplotlib.axes._subplots.AxesSubplot at 0xf316d30>"
      ]
     },
     "execution_count": 24,
     "metadata": {},
     "output_type": "execute_result"
    },
    {
     "data": {
      "image/png": "[encoded data removed]",
      "text/plain": [
       "<matplotlib.figure.Figure at 0x19ca2240>"
      ]
     },
     "metadata": {},
     "output_type": "display_data"
    }
   ],
   "source": [
    "# now check outliers and clustering using scatter plot\n",
    "# in figure we seem some outliers\n",
    "dt_JobApplication.plot(kind='scatter', x='Existing Zoning Sqft', y='Proposed Zoning Sqft', rot=70)"
   ]
  },
  {
   "cell_type": "code",
   "execution_count": null,
   "metadata": {
    "collapsed": true
   },
   "outputs": [],
   "source": []
  }
 ],
 "metadata": {
  "kernelspec": {
   "display_name": "Python 2",
   "language": "python",
   "name": "python2"
  },
  "language_info": {
   "codemirror_mode": {
    "name": "ipython",
    "version": 2
   },
   "file_extension": ".py",
   "mimetype": "text/x-python",
   "name": "python",
   "nbconvert_exporter": "python",
   "pygments_lexer": "ipython2",
   "version": "2.7.13"
  }
 },
 "nbformat": 4,
 "nbformat_minor": 2
}
